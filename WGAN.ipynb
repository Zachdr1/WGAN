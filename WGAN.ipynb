{
 "cells": [
  {
   "cell_type": "code",
   "execution_count": 1,
   "metadata": {},
   "outputs": [
    {
     "name": "stdout",
     "output_type": "stream",
     "text": [
      "2.0.0-beta1\n",
      "GPU Available:  True\n"
     ]
    }
   ],
   "source": [
    "import tensorflow as tf\n",
    "from tensorflow.keras.models import Model\n",
    "from tensorflow.keras.layers import (\n",
    "    Conv2D,\n",
    "    LeakyReLU,\n",
    "    Dropout,\n",
    "    BatchNormalization,\n",
    "    Flatten,\n",
    "    Dense,\n",
    "    Activation,\n",
    "    Input,\n",
    "    Reshape,\n",
    "    Conv2DTranspose\n",
    ")\n",
    "print(tf.__version__)\n",
    "print(\"GPU Available: \", tf.test.is_gpu_available())"
   ]
  },
  {
   "cell_type": "code",
   "execution_count": 2,
   "metadata": {},
   "outputs": [],
   "source": [
    "class WGAN():\n",
    "    def __init__(self, dataset, lr=5e-5, c=0.01, m=64, n_critic=5, min_z=-1, max_z=1):\n",
    "        # Config\n",
    "        self.lr = lr\n",
    "        self.c = c\n",
    "        self.m = m\n",
    "        self.n_critic = 5\n",
    "        self.min_z = min_z\n",
    "        self.max_z = max_z\n",
    "        \n",
    "        # Models\n",
    "        self.C = self.critic()\n",
    "        self.G = self.generator()\n",
    "        \n",
    "        # Data\n",
    "        self.dataset = dataset\n",
    "        self.data_iter = tf.compat.v1.data.make_one_shot_iterator(dataset)\n",
    "        \n",
    "        # Optimizers\n",
    "        self.C_opt = tf.keras.optimizers.RMSprop(learning_rate=self.lr)\n",
    "        self.G_opt = tf.keras.optimizers.RMSprop(learning_rate=self.lr)\n",
    "        \n",
    "    @tf.function\n",
    "    def C_loss(self, C_real, C_fake):\n",
    "        return tf.reduce_mean(C_real) - tf.reduce_mean(C_fake)\n",
    "    \n",
    "    @tf.function\n",
    "    def G_loss(self, C_fake):\n",
    "        return -tf.reduce_mean(C_fake)\n",
    "    \n",
    "    @tf.function\n",
    "    def C_grad(self, real_inp, fake_inp):\n",
    "        with tf.GradientTape() as tape:\n",
    "            C_real = self.C(real_inp, training=True)\n",
    "            C_fake = self.C(fake_inp, training=True)\n",
    "            loss = self.C_loss(C_real, C_fake)\n",
    "        return tape.gradient(loss, self.C.trainable_variables)\n",
    "    \n",
    "    @tf.function\n",
    "    def G_grad(self, z):\n",
    "        with tf.GradientTape() as C_tape, tf.GradientTape() as G_tape:\n",
    "            fake = self.G(z, training=True)\n",
    "            C_fake = self.C(fake, training=False)\n",
    "            loss = self.G_loss(C_fake)\n",
    "        return C_tape.gradient(loss, self.G.trainable_variables)\n",
    "    \n",
    "    def clip_weights(self):\n",
    "        for l in self.C.layers:\n",
    "            weights = l.get_weights()\n",
    "            weights = [tf.clip_by_value(w, -self.c, self.c) for w in weights]\n",
    "            l.set_weights(weights)\n",
    "    \n",
    "    @tf.function\n",
    "    def C_train_on_batch(self):\n",
    "        z = tf.random.uniform((self.m, 100,), self.min_z, self.max_z)\n",
    "        fake_inp = self.G(z, training=False)\n",
    "        real_inp = self.get_data_batch()\n",
    "        grad = self.C_grad(real_inp, fake_inp)\n",
    "        self.C_opt.apply_gradients(zip(grad, self.C.trainable_variables))\n",
    "    \n",
    "    @tf.function\n",
    "    def G_train_on_batch(self):\n",
    "        z = tf.random.uniform((self.m, 100,), self.min_z, self.max_z)\n",
    "        grad = self.G_grad(z)\n",
    "        self.G_opt.apply_gradients(zip(grad, self.G.trainable_variables))\n",
    "\n",
    "    @tf.function\n",
    "    def get_data_batch(self):\n",
    "        return self.data_iter.get_next()\n",
    "    \n",
    "    def critic(self):\n",
    "        dropout_prob = .4\n",
    "\n",
    "        inputs = Input(shape=(32, 32, 3))\n",
    "\n",
    "        # Input size = 32x32x3\n",
    "        x = Conv2D(filters=128, kernel_size=5, padding='same', strides=(2, 2), input_shape=(32, 32, 3))(inputs)\n",
    "        x = LeakyReLU(0.2)(x)\n",
    "        # Output size = 16x16x128\n",
    "\n",
    "        # Input size = 16x16x128\n",
    "        x = Conv2D(filters=256, kernel_size=5, padding='same', strides=(2, 2))(x)\n",
    "        x = BatchNormalization()(x)\n",
    "        x = LeakyReLU(0.2)(x)\n",
    "        # Output size = 8x8x256\n",
    "\n",
    "        # Input size = 8x8x256\n",
    "        x = Conv2D(filters=512, kernel_size=5, strides=(2, 2), padding='same')(x)\n",
    "        x = BatchNormalization()(x)\n",
    "        x = LeakyReLU(0.2)(x)\n",
    "        # Output size = 4x4x512\n",
    "\n",
    "        # Input size = 4x4x512\n",
    "        x = Conv2D(filters=1024, kernel_size=5, padding='same')(x)\n",
    "        x = BatchNormalization()(x)\n",
    "        x = LeakyReLU(0.2)(x)\n",
    "        # Output size = 4x4x1024\n",
    "\n",
    "        # Input size = 4x4x1024\n",
    "        x = Flatten()(x)\n",
    "        out = Dense(1)(x)\n",
    "\n",
    "        net = Model(inputs=inputs, outputs=out)\n",
    "\n",
    "        return net\n",
    "    \n",
    "    def generator(self):\n",
    "        dropout_prob = .4\n",
    "\n",
    "        # Input size = 100\n",
    "        inputs = Input(shape=(100,))\n",
    "        x = Dense(4*4*1024, input_shape=(100,))(inputs)\n",
    "        x = Reshape(target_shape=(4, 4, 1024))(x)\n",
    "        x = BatchNormalization()(x)\n",
    "        x = LeakyReLU(0.2)(x)\n",
    "        x = Dropout(dropout_prob)(x)\n",
    "        # Output size = 4x4x1024\n",
    "\n",
    "        # Input size = 4x4x1024\n",
    "        x = Conv2DTranspose(filters=512, kernel_size=5, strides=(2, 2), padding='same')(x)\n",
    "        x = BatchNormalization()(x)\n",
    "        x = LeakyReLU(0.2)(x)\n",
    "        x = Dropout(dropout_prob)(x)\n",
    "        # Output size = 8x8x512\n",
    "\n",
    "        # Input size = 8x8x512\n",
    "        x = Conv2DTranspose(filters=256, kernel_size=5, strides=(2, 2), padding='same')(x)\n",
    "        x = BatchNormalization()(x)\n",
    "        x = LeakyReLU(0.2)(x)\n",
    "        x = Dropout(dropout_prob)(x)\n",
    "        # Output size = 16x16x256\n",
    "\n",
    "        # Input size = 16x16x256\n",
    "        x = Conv2DTranspose(filters=128, kernel_size=5, strides=(2, 2), padding='same')(x)\n",
    "        x = BatchNormalization()(x)\n",
    "        x = LeakyReLU(0.2)(x)\n",
    "        x = Dropout(dropout_prob)(x)\n",
    "        # Output size = 32x32x128\n",
    "\n",
    "        # Input size = 32x32x128\n",
    "        x = Conv2DTranspose(filters=3, kernel_size=5, padding='same')(x)\n",
    "        out = Activation('tanh')(x)\n",
    "        # Output size = 32x32x3\n",
    "\n",
    "        net = Model(inputs=inputs, outputs=out)\n",
    "\n",
    "        return net\n",
    "        "
   ]
  },
  {
   "cell_type": "markdown",
   "metadata": {
    "jupyter": {
     "source_hidden": true
    }
   },
   "source": [
    "def critic():\n",
    "        dropout_prob = .4\n",
    "\n",
    "        inputs = Input(shape=(128, 128, 3))\n",
    "\n",
    "        # Input size = 128x128x3\n",
    "        x = Conv2D(filters=128, kernel_size=5, padding='same', input_shape=(128, 128, 3))(inputs)\n",
    "        x = LeakyReLU(0.2)(x) # size = 64x64\n",
    "        # Output size = 64x64x128\n",
    "\n",
    "        # Input size = 64x64x128\n",
    "        x = Conv2D(filters=256, kernel_size=5, padding='same', strides=(2, 2))(x)\n",
    "        x = BatchNormalization()(x)\n",
    "        x = LeakyReLU(0.2)(x) # size = 32x32\n",
    "        # Output size = 32x32x256\n",
    "\n",
    "        # Input size = 32x32x256\n",
    "        x = Conv2D(filters=512, kernel_size=5, strides=(2, 2), padding='same')(x)\n",
    "        x = BatchNormalization()(x)\n",
    "        x = LeakyReLU(0.2)(x) # size = 16x16\n",
    "        # Output size = 16x16x512\n",
    "\n",
    "        # Input size = 16x16x512\n",
    "        x = Conv2D(filters=1024, kernel_size=5, strides=(2, 2), padding='same')(x)\n",
    "        x = BatchNormalization()(x)\n",
    "        x = LeakyReLU(0.2)(x) # size = 8x8\n",
    "        # Output size = 8x8x1024\n",
    "\n",
    "        # Input size = 8x8x1024\n",
    "        x = Flatten()(x)\n",
    "        out = Dense(1)(x)\n",
    "\n",
    "        net = Model(inputs=inputs, outputs=out)\n",
    "\n",
    "        return net\n",
    "    \n",
    "    def generator():\n",
    "        dropout_prob = .4\n",
    "\n",
    "        # Input size = 100\n",
    "        inputs = Input(shape=(100,))\n",
    "        x = Dense(8*8*1024, input_shape=(100,))(inputs)\n",
    "        x = Reshape(target_shape=(8, 8, 1024))(x)\n",
    "        x = BatchNormalization()(x)\n",
    "        x = LeakyReLU(0.2)(x)\n",
    "        x = Dropout(dropout_prob)(x)\n",
    "        # Output size = 8x8x1024\n",
    "\n",
    "        # Input size = 8x8x1024\n",
    "        x = Conv2DTranspose(filters=512, kernel_size=5, strides=(2, 2), padding='same')(x)\n",
    "        x = BatchNormalization()(x)\n",
    "        x = LeakyReLU(0.2)(x)\n",
    "        x = Dropout(dropout_prob)(x)\n",
    "        # Output size = 16x16x512\n",
    "\n",
    "        # Input size = 16x16x512\n",
    "        x = Conv2DTranspose(filters=256, kernel_size=5, strides=(2, 2), padding='same')(x)\n",
    "        x = BatchNormalization()(x)\n",
    "        x = LeakyReLU(0.2)(x)\n",
    "        x = Dropout(dropout_prob)(x)\n",
    "        # Output size = 32x32x256\n",
    "\n",
    "        # Input size = 32x32x256\n",
    "        x = Conv2DTranspose(filters=128, kernel_size=5, strides=(2, 2), padding='same')(x)\n",
    "        x = BatchNormalization()(x)\n",
    "        x = LeakyReLU(0.2)(x)\n",
    "        x = Dropout(dropout_prob)(x)\n",
    "        # Output size = 64x64x128\n",
    "\n",
    "        # Input size = 64x64x128\n",
    "        x = Conv2DTranspose(filters=3, kernel_size=5, strides=(2, 2), padding='same')(x)\n",
    "        out = Activation('tanh')(x)\n",
    "        # Output size = 128x128x3\n",
    "\n",
    "        net = Model(inputs=inputs, outputs=out)\n",
    "\n",
    "        return net"
   ]
  },
  {
   "cell_type": "code",
   "execution_count": 3,
   "metadata": {},
   "outputs": [],
   "source": [
    "(x_train, _), (_,_) = tf.keras.datasets.cifar10.load_data()"
   ]
  },
  {
   "cell_type": "code",
   "execution_count": 4,
   "metadata": {},
   "outputs": [
    {
     "name": "stderr",
     "output_type": "stream",
     "text": [
      "WARNING: Logging before flag parsing goes to stderr.\n",
      "W0722 01:33:53.836092 13092 deprecation.py:323] From <ipython-input-4-52f28e52ec3f>:16: map_and_batch (from tensorflow.python.data.experimental.ops.batching) is deprecated and will be removed in a future version.\n",
      "Instructions for updating:\n",
      "Use `tf.data.Dataset.map(map_func, num_parallel_calls)` followed by `tf.data.Dataset.batch(batch_size, drop_remainder)`. Static tf.data optimizations will take care of using the fused implementation.\n"
     ]
    }
   ],
   "source": [
    "def preprocess_fn(image):\n",
    "    x = tf.reshape(tf.cast(image, tf.float32), (32,32,3))\n",
    "#     x /= 255\n",
    "    x = 2*x/255 - 1 # convert image to [-1, 1] range\n",
    "    x = tf.image.random_flip_left_right(x)\n",
    "    x = tf.image.random_hue(x, 0.08)\n",
    "    x = tf.image.random_saturation(x, 0.6, 1.6)\n",
    "    x = tf.image.random_brightness(x, 0.05)\n",
    "    x = tf.image.random_contrast(x, 0.7, 1.3)\n",
    "    return x\n",
    "\n",
    "real_ds = tf.data.Dataset.from_tensor_slices(x_train)\n",
    "real_ds = real_ds.shuffle(60000)\n",
    "real_ds = real_ds.repeat()\n",
    "real_ds = real_ds.apply(tf.data.experimental.map_and_batch(\n",
    "        preprocess_fn, 64, num_parallel_batches=6, drop_remainder=True))\n",
    "real_ds = real_ds.prefetch(tf.data.experimental.AUTOTUNE)"
   ]
  },
  {
   "cell_type": "code",
   "execution_count": 5,
   "metadata": {},
   "outputs": [],
   "source": [
    "wgan = WGAN(real_ds)"
   ]
  },
  {
   "cell_type": "code",
   "execution_count": null,
   "metadata": {},
   "outputs": [
    {
     "name": "stdout",
     "output_type": "stream",
     "text": [
      "Step: 50\n",
      "Step: 51\n"
     ]
    }
   ],
   "source": [
    "from IPython.display import clear_output, Image\n",
    "\n",
    "for step in range(0, 15001):\n",
    "    for i in range(0,5):\n",
    "        wgan.C_train_on_batch()\n",
    "        wgan.clip_weights()\n",
    "    wgan.G_train_on_batch()\n",
    "        \n",
    "    if step % 50 == 0:\n",
    "        clear_output(wait=True)\n",
    "    print(f\"Step: {step}\")"
   ]
  },
  {
   "cell_type": "code",
   "execution_count": 177,
   "metadata": {},
   "outputs": [
    {
     "name": "stdout",
     "output_type": "stream",
     "text": [
      "(5, 32, 32, 3)\n"
     ]
    },
    {
     "data": {
      "text/plain": [
       "<matplotlib.image.AxesImage at 0x19ebe06b438>"
      ]
     },
     "execution_count": 177,
     "metadata": {},
     "output_type": "execute_result"
    },
    {
     "data": {
      "image/png": "[encoded data removed]",
      "text/plain": [
       "<Figure size 432x288 with 1 Axes>"
      ]
     },
     "metadata": {
      "needs_background": "light"
     },
     "output_type": "display_data"
    }
   ],
   "source": [
    "import numpy as np\n",
    "import random\n",
    "import matplotlib.pyplot as plt\n",
    "noise = np.random.uniform(-1.0, 1.0, size=(5,100,))\n",
    "fake_batch = wgan.G(noise)\n",
    "print(fake_batch.shape)\n",
    "\n",
    "fig = plt.figure()\n",
    "plt.axis('off')\n",
    "fake_batch = (fake_batch + 1) / 2\n",
    "plt.imshow((fake_batch[3]))"
   ]
  }
 ],
 "metadata": {
  "kernelspec": {
   "display_name": "tf2",
   "language": "python",
   "name": "tf2"
  },
  "language_info": {
   "codemirror_mode": {
    "name": "ipython",
    "version": 3
   },
   "file_extension": ".py",
   "mimetype": "text/x-python",
   "name": "python",
   "nbconvert_exporter": "python",
   "pygments_lexer": "ipython3",
   "version": "3.7.3"
  }
 },
 "nbformat": 4,
 "nbformat_minor": 4
}
